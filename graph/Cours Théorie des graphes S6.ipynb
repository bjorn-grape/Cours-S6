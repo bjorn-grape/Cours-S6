{
 "cells": [
  {
   "cell_type": "markdown",
   "metadata": {},
   "source": [
    "# Disclaimer\n",
    "### Cours de M. Duret-Lutz\n",
    "\n",
    "Ce sont des notes de cours imparfaites qui n'ont absolument rien d'officiel.\n",
    "Le professeur n'a eu strictement aucune implication dans la création de ce\n",
    "fichier. Il n'engage personne et en particulier ni le professeur ni les\n",
    "étudiants qui l'ont écrit.\n",
    "\n",
    "C'est juste des élèves quelconques qui font de leur mieux pour suivre en cours\n",
    "et vous partager leurs notes pour vous aider dans vos révisions.\n",
    "\n",
    "Sur ce, bon travail :)."
   ]
  },
  {
   "cell_type": "markdown",
   "metadata": {},
   "source": [
    "# Python graph"
   ]
  },
  {
   "cell_type": "markdown",
   "metadata": {},
   "source": [
    "## Une liste d'adjacence sera utilisée pour les graphes\n",
    "\n",
    "### chaque case d'un tableau contiendra les noeuds sur lesquels le noeud actuel pointe"
   ]
  },
  {
   "cell_type": "code",
   "execution_count": 4,
   "metadata": {
    "collapsed": true
   },
   "outputs": [],
   "source": [
    "edges = [[1,3],[0,2,5],[1],[0,4],[3,5],[1,4],[7],[6]]"
   ]
  },
  {
   "cell_type": "markdown",
   "metadata": {},
   "source": [
    "# DFS\n",
    "## algo recursif \n",
    "### On ignore les noeuds déjà visités"
   ]
  },
  {
   "cell_type": "code",
   "execution_count": 5,
   "metadata": {
    "collapsed": true
   },
   "outputs": [],
   "source": [
    "def DFS(adj):\n",
    "    n = len(adj)\n",
    "    seen = [False] * n\n",
    "    def rec(start):\n",
    "        print(start)\n",
    "        for y in adj[start]:\n",
    "            if not seen[y]:\n",
    "                seen[y] = True\n",
    "                rec(y)\n",
    "    for start in range(n):\n",
    "        if(not seen[start]):\n",
    "            seen[start] = True\n",
    "            rec(start)\n",
    "            "
   ]
  },
  {
   "cell_type": "code",
   "execution_count": 6,
   "metadata": {},
   "outputs": [
    {
     "name": "stdout",
     "output_type": "stream",
     "text": [
      "0\n",
      "1\n",
      "2\n",
      "5\n",
      "4\n",
      "3\n",
      "6\n",
      "7\n"
     ]
    }
   ],
   "source": [
    "DFS(edges)"
   ]
  },
  {
   "cell_type": "code",
   "execution_count": 9,
   "metadata": {
    "collapsed": true
   },
   "outputs": [],
   "source": [
    "def DFSIter(adj):\n",
    "    n = len(adj)\n",
    "    seen = [False] * n\n",
    "    for start in range(n):\n",
    "        if seen[start]:\n",
    "            continue\n",
    "        stack = [(start, 0)]\n",
    "        while stack:\n",
    "            src, pos = stack.pop()\n",
    "            if pos == 0:\n",
    "                print(src)\n",
    "                seen[src] = True\n",
    "            if pos == len(adj[src]):\n",
    "                continue\n",
    "            stack.append((src,pos + 1))\n",
    "            succ  = adj[src][pos]\n",
    "            if not seen[succ]:\n",
    "                stack.append((succ,0))\n"
   ]
  },
  {
   "cell_type": "code",
   "execution_count": 10,
   "metadata": {},
   "outputs": [
    {
     "name": "stdout",
     "output_type": "stream",
     "text": [
      "0\n",
      "1\n",
      "2\n",
      "5\n",
      "4\n",
      "3\n",
      "6\n",
      "7\n"
     ]
    }
   ],
   "source": [
    "DFSIter(edges)"
   ]
  },
  {
   "cell_type": "markdown",
   "metadata": {},
   "source": [
    "# Breadth-First Search (BFS)\n",
    "## using a queue"
   ]
  },
  {
   "cell_type": "code",
   "execution_count": 38,
   "metadata": {
    "collapsed": true
   },
   "outputs": [],
   "source": [
    "def BFS(adj):  # θ(1)\n",
    "    n = len(adj) # θ(|v|)\n",
    "    seen = [False] * n # θ(|v|)\n",
    "    for start in  range(n): # θ(|v|)\n",
    "        if seen[start]: # O(|v|)\n",
    "            continue # O(|v|)\n",
    "        q = [start] # O(|v|)\n",
    "        seen[start] = True # O(|v|)\n",
    "        while q: # θ(|v|)\n",
    "            src = q.pop() # θ(|v|)\n",
    "            print(src) # θ(|v|)\n",
    "            for dst in adj[src]: # θ(|E|)\n",
    "                if not seen[dst]: # θ(|E|)\n",
    "                    q.append(dst) # O(|E|)\n",
    "                    seen[dst] = True # O(|E|)            "
   ]
  },
  {
   "cell_type": "code",
   "execution_count": 39,
   "metadata": {},
   "outputs": [
    {
     "name": "stdout",
     "output_type": "stream",
     "text": [
      "0\n",
      "3\n",
      "4\n",
      "5\n",
      "1\n",
      "2\n",
      "6\n",
      "7\n"
     ]
    }
   ],
   "source": [
    "BFS(edges)"
   ]
  },
  {
   "cell_type": "markdown",
   "metadata": {},
   "source": [
    "## 1)\n",
    "### θ(|v|² + |E|) = O(|v|²)\n",
    "### |E| <= (2 pris parmi |v|)  = |v|*(|v| -1) / 2 < |v|²/2\n",
    "### |E| = O (|v|²)\n",
    "## 2) Sur un graphe Connexe\n",
    "### |E| >= |v| - 1\n",
    "### |E| = Ώ(|v|)   ------> sur un graphe convex\n",
    "## 3)\n",
    "### sum(deg(v)) = 2|E| = θ(|E|)"
   ]
  },
  {
   "cell_type": "markdown",
   "metadata": {},
   "source": [
    "# Map of Distance"
   ]
  },
  {
   "cell_type": "code",
   "execution_count": 60,
   "metadata": {
    "collapsed": true
   },
   "outputs": [],
   "source": [
    "from collections import deque\n",
    "\n",
    "def distmap(adj, start):\n",
    "    n = len(adj) # θ(1)\n",
    "    dist = [None] * n #θ(|v|)\n",
    "    q = deque([start]) #θ(1)\n",
    "    dist[start] = 0 #θ(1)\n",
    "    while q: #O(|v|)\n",
    "        src = q.popleft() #O(|v|)\n",
    "        d = dist[src] #O(|v|)\n",
    "        for dst in adj[src]: #O(|E|)\n",
    "            if dist[dst] is None:#O(|E|)\n",
    "                dist[dst] = d + 1 #O(|E|)\n",
    "                q.append(dst)#O(|E|)\n",
    "    return dist #O(|E|) + #θ(|v|)"
   ]
  },
  {
   "cell_type": "code",
   "execution_count": 61,
   "metadata": {},
   "outputs": [
    {
     "data": {
      "text/plain": [
       "[0, 1, 2, 1, 2, 2, None, None]"
      ]
     },
     "execution_count": 61,
     "metadata": {},
     "output_type": "execute_result"
    }
   ],
   "source": [
    "distmap(edges, 0)"
   ]
  },
  {
   "cell_type": "markdown",
   "metadata": {},
   "source": [
    "# Dijkstra's algorithm\n",
    "## pseudo code"
   ]
  },
  {
   "cell_type": "raw",
   "metadata": {},
   "source": [
    "Dijkstra(G = (E,v,w), start):\n",
    "    ∀ v ∈ V, dist[v] = +inf\n",
    "    dist[start] = 0\n",
    "    h = [start]\n",
    "    while h:\n",
    "        src = h.popmin()\n",
    "        for dst ∈ sucessions(src):\n",
    "            d = dist[src] + w(src,dst)\n",
    "            old = dist[dst]\n",
    "            dist[dst]  = min(old, d)\n",
    "            if old = inf:\n",
    "                h.insert(dst)\n",
    "            else if old != dist[dst]:\n",
    "                h.update(dst)\n",
    "    return dist"
   ]
  },
  {
   "cell_type": "markdown",
   "metadata": {
    "collapsed": true
   },
   "source": [
    "# 22-02-17 Bellman-ford\n",
    "* approche de proggrammation dynamique\n",
    "    Calcul de la distance (1 source n dest) dans un graphe aux poids appartenant à |R\n",
    "\n",
    "Supposons que le chemin jaune soit PCC (plus court chemin) de 4 arrêtes\n",
    "pour relier D à 4. Alors nécessairement le chemin rouge est le PCC de  arrêtes pour relier s à x\n",
    "\n",
    "Notons Dk[x] la distance de s à x qui utilise au plus k arrêtes.\n",
    "Si le graphe est O=(V, E, w)\n",
    "Soit s la source des distances\n",
    "D1[t] = w(s,t)\n",
    "k appartient [2, |v| - 1],Dk[t] = min{ Dk-1[x] + w (x,t) | x appartient v}"
   ]
  },
  {
   "cell_type": "raw",
   "metadata": {},
   "source": [
    "BellmanFord1(G=(V,E,w), s appartient à v)\n",
    "    Pour tout x appartient à v D1[x] <- w(s,x)\n",
    "    for k <- 2 b |v|-1\n",
    "        for t appartient v\n",
    "            Dk[t] <- min(Dk-1[x] + w(x,t))\n",
    "    return D|v| - 1"
   ]
  },
  {
   "cell_type": "markdown",
   "metadata": {},
   "source": [
    "![Graph 2](graph2.png)\n",
    "\n",
    "|    | a | b | c   | d | e   |\n",
    "|----|---|---|-----|---|-----|\n",
    "| d1 | 0 | 4 | inf | 5 | inf |\n",
    "| d2 | 0 | 4 | 2   | 5 | 3   |\n",
    "| d3 | 0 | 4 | 2   | 3 | 3   |\n",
    "| d4 | 0 | 4 | 2   | 3 | 1   |\n"
   ]
  },
  {
   "cell_type": "markdown",
   "metadata": {},
   "source": [
    "### Opti 1\n",
    "ne pas essayer de  passer par x qui n'a pas un arc vers t"
   ]
  },
  {
   "cell_type": "raw",
   "metadata": {},
   "source": [
    "BellmanFord2 (G = (V,E,w), s appart. v)\n",
    "    pour tt x appart. v, D1[x] <- w(s,x)\n",
    "    for k <-2 | o |v| - 1 \n",
    "        Dk <- D_(k-1)\n",
    "        for(x,t) appart E\n",
    "            D_(k)[t] <- min(D_(k)[t], D_(k-1)[x] + w(x,t) )\n",
    "    return D_(|v|-1)"
   ]
  },
  {
   "cell_type": "markdown",
   "metadata": {},
   "source": [
    "### Opti 2"
   ]
  },
  {
   "cell_type": "raw",
   "metadata": {},
   "source": [
    "### On remplace D1, D_(k-1) et D_(k) par D\n",
    "\n",
    "Pour tt x appart v , D[x] <- w(s,x)\n",
    "    for k <- 2 to |v|-1\n",
    "        for(x,t) appart E\n",
    "            D[t] <- min (D[t] , D[x] + w(x,t))\n",
    "            return D\n",
    "        \n",
    "### attention D[x] utilise peut être plus que k arcs à l'iteration k\n",
    "\n",
    "### 3) arreter l'algo des qu'une iteration de k ne change pas D\n",
    "\n",
    "### attention si le graphe à des cycles de somme < 0 \n",
    "### D change toujours !\n",
    "                        "
   ]
  },
  {
   "cell_type": "raw",
   "metadata": {},
   "source": [
    "Pour tt x appart v, D[x] <- w(s,x)\n",
    "Pour tt x appart v, Father[x] <- s\n",
    "for k <- 2 to |v| - 1\n",
    "    for(x,t) appart E\n",
    "        p <- D[x] + w(x,t)\n",
    "        ...\n",
    "       "
   ]
  },
  {
   "cell_type": "raw",
   "metadata": {},
   "source": [
    "n sources vers n destinations\n",
    "    On veut une matrice des distances\n",
    "        D[s,t] = ?\n",
    "\n",
    "par prog-dyn\n",
    "    D1[s,t] = w(s,t)\n",
    "k appart [2, |v| - 1 ]  D_k[s,t] = min(D_(k-1)[s,x] + w(x,t))"
   ]
  },
  {
   "cell_type": "code",
   "execution_count": 4,
   "metadata": {
    "collapsed": true
   },
   "outputs": [],
   "source": [
    "def SlowDist(G):\n",
    "    D  = G.w\n",
    "    for k in range(2, G.v - 1):\n",
    "        for s in range(len(G.v)):\n",
    "            for t in range(len(G.v)):\n",
    "                D[k][s,t] =  min(D[k-1][s,x] + G.w(x,t))\n",
    "    return D[G.v -1]\n",
    "\n",
    "### really unsure about my copy of this algorithm"
   ]
  },
  {
   "cell_type": "markdown",
   "metadata": {},
   "source": [
    "### Floyd-warshall (https://en.wikipedia.org/wiki/Floyd%E2%80%93Warshall_algorithm)"
   ]
  },
  {
   "cell_type": "markdown",
   "metadata": {
    "collapsed": true
   },
   "source": [
    "# 3/08/17 Couplage\n",
    "* Problème 1\n",
    "    affectation de tâche\n",
    "* Problème 2\n",
    "    Armée multinationnale:\n",
    "    Les soldats parlent >= 1 langue\n",
    "    Il faut 2 soldats qui parlent la même langue pour conduire un tank\n",
    "    Maximiser le nombre de tank conduits.\n",
    "    \n",
    "Utilisation (https://en.wikipedia.org/wiki/Bipartite_graph)\n",
    "    \n",
    "### type de couplage:\n",
    "* Maximal : on ne peut plus lier de sommets\n",
    "* Maximum : maximal + il n'existe pas de meilleure configuration pour faire plus de liens\n",
    "![Couplage](couplage.png)\n",
    "\n",
    "\n",
    "### Couplage:\n",
    "* Def : Dans un graphe  G = (V,E), un couplage M inclu dans E  est un ensemble d'arrêtes tel que\n",
    "    M ne contient  pas 2 arrêtes voisines\n",
    "    \n"
   ]
  },
  {
   "cell_type": "markdown",
   "metadata": {},
   "source": [
    "* Def : Un couplage est parfait si les extremités des arrêtes de M couvrent V.\n",
    "implique |M| = |v|/2\n",
    "Pas de couplage parfait.\n",
    "\n",
    "* Def : Un sommet est libre s'il n'est l'extrémité d'aucune arrête de M. \n",
    "\n",
    "### Comment construire un couplage maximum ?\n",
    "* Donner un couplage maximal\n",
    "* Trouver des chemins améliorants en utilisant les noeuds libres.\n",
    "### Defs\n",
    "* def : Il existe un chemin améliorant ssi  le couplage n'est pas maximum.  \n",
    "(=>) Soit P un chemin améliorant, alors M'=M xor P possède une arrête de plus que M=>M pas maximum  \n",
    "(<=) On suppose M non maximum, soit M' un couplage maximum (|M'|>|M|)\n",
    "Considérons le graphe G'=(V, M xor M')  \n",
    "a) G' possède plus d'arrêtes de M' que de M  \n",
    "b) chaque sommet de G' touche au plus une arrête de M  \n",
    "\n",
    "Dans les composants de G' qui ne sont pas des sommets volés, Il existe nécéssairement ( à cause de a)) un composant avec plus d'arrêtes de M'.  \n",
    "Ce composant est un élément améliorant.  \n",
    "\n",
    "### Couplage maximum\n",
    "| M <- (ensemble vide)  \n",
    "| Tant qu'il existe un chemin élevant P  \n",
    "| | M <- M xor P  \n",
    "| return M  "
   ]
  },
  {
   "cell_type": "markdown",
   "metadata": {},
   "source": [
    "### ALGO d'Edmonds  : pour trouver un chemin améliorant.\n",
    "Entrée : G = (V,E), M appartient à E couplage  \n",
    "Sortie : P appartient E chemi améliorant, (vide) si pas de chemin améliorant\n",
    "* retirer les étiqettes \"[n,c,p]\" de tous les sommets\n",
    "* marquer toutes les arêtes comme non visités.\n",
    "* répéter au choix:  \n",
    "    (A) trouver un sommet libre v appartient à  V, lui donner l'étiquette [v, B, v]  \n",
    "    (B) trouver une arête non visitée (v,w) appartient à E, telle que v est étiquettée par [r,B,p]  \n",
    "        (1) Marquer comme visité\n",
    "        (2) si w est non étiqueté et libre alors: //on a un chemin améliorant\n",
    "            P <- chemin de r à w\n",
    "        (3) si w est non étiquetté et il existe x tq (w,x) appart. M\n",
    "            étiquetter w par [r,J,v]\n",
    "            et x par [r,B,w]\n",
    "        (4) si w a pour étiquette [s,B,q] avec q!=r\n",
    "                P <- chemin de r à v + (v,w) + le chemin  de w à s\n",
    "                break\n",
    "        (5) si w a pour étiquette [s,B,q] avec s=r\n",
    "            \"\"\"on a détecté un angle de taille impaire.\n",
    "            on retire tous sommets de ce cycle et on les remplace\n",
    "            par un nouveau sommet x. (le bourgeon) dans ce cycle.\n",
    "            On étiquette x par [r,B,p'] avec p' le parent de x \n",
    "         (6) --- voir photo ci dessous\n",
    "![Couplage](fin_algo_couplage.png)"
   ]
  },
  {
   "cell_type": "markdown",
   "metadata": {
    "collapsed": true
   },
   "source": [
    "# Suite ALGO edmond\n",
    "Dans un graphe biparti, on ne peut pas créer des cycles de taille imapaire\n",
    "=> Pas besoin de bourgeon dans Edmond\n",
    "\n",
    "Le Couplage maximum peut aussi être calculé comme un flot maximum.\n",
    "\n",
    "### Théorème de Tutte:\n",
    "Un graphe G(V,E) possède un couplage parfait ssi pour chaque, sous ensemble U appartenant à V\n",
    " le graphe induit par V\\U (on suppose les sommets de U) possède au plus |U| composantes.\n",
    " \n",
    " Ce théorème ne donne pas un algo efficace car il énumère tous les sous ensembles U.\n",
    " On peut décider l'existence d'un couplage parfait simplement en appliquant Edmonds O(|V|,|E|) plus en vérifiant |M| = |V|/2"
   ]
  },
  {
   "cell_type": "markdown",
   "metadata": {},
   "source": [
    "### Chemin améliorant pondéré :\n",
    "* Chemin qui alterne Aretes  de M (jaunes) et de E\\M(blanches)\n",
    "* La somme de poids des aretes de M doit être plus petite que la somme\n",
    " des aretes du chemin hors M\n",
    "* (...)\n",
    "\n",
    "### L'algo hongrois\n",
    "* Trouve un couplage pondéré maximum ou minimum en O(V^3)\n",
    "\n",
    "### Une Couverture des sommets par les arètes est un sous-ensemble de E qui touche tous les sommets.\n",
    " \n",
    "Par exemple :\n",
    "* 1 arbre courant\n",
    "* 1 couplage parfait\n",
    "* 1 graphe connexe est sa propre couverture"
   ]
  },
  {
   "cell_type": "markdown",
   "metadata": {},
   "source": [
    "### Une couverture minimale :\n",
    "On ne peut pas retirer d'aretes\n",
    "\n",
    "\n",
    "### Une couverture minimum : \n",
    "Il n'y a pas de couverture plus petite\n",
    "\n",
    "### Application :\n",
    "Un vendeur de jouets de forme géométriques de différentes couleurs. Toutes les combinaisons forme couleurs n'existent pas.\n",
    "On cherche le nombre d'objets min représentant chaque forme et chaque couleur.\n",
    "![Jouet](jouet.png)"
   ]
  },
  {
   "cell_type": "markdown",
   "metadata": {},
   "source": [
    "### Problème postier chinois\n",
    "\n",
    "### Entrée :\n",
    "graphe connexe\n",
    "### Sortie  :\n",
    "Le plus court chemin qui :\n",
    "* visite toutes les arètes au moins 1 fois\n",
    "* il revient à son pt de départ\n",
    "\n",
    "Cycle eulérien existe dans un graphe connexe si tous les dégrés sont pairs.\n",
    "\n",
    "PDF resumé (http://www.suffolkmaths.co.uk/pages/Maths%20Projects/Projects/Topology%20and%20Graph%20Theory/Chinese%20Postman%20Problem.pdf)"
   ]
  },
  {
   "cell_type": "markdown",
   "metadata": {},
   "source": [
    "Algo donnant une solution du problème du postier chinois:\n",
    "* Soit S l'ensemble des sommets de dégré impair\n",
    "* Calculer le graphe Gs étiquetté par les distances entre les sommets de S dans G.\n",
    "* Calculer un couplage de poids minimum sur Gs\n",
    "* doubler les arêtes des plus courts chemins correspondants au couplage, dans G\n",
    "* Calculer un  cycle eulérien dans G\n"
   ]
  },
  {
   "cell_type": "markdown",
   "metadata": {
    "collapsed": true
   },
   "source": [
    "# Dernier Cours\n",
    "\n",
    "Dans un graphe non oriente deux sommets v1 et v2 sont dit connectes s'il existe un chemin les reliant.\n",
    "La relation de connexion est une relation d'equivalence de cette relation sont appeles composantes connexes.\n",
    "\n",
    "Un sommet est un point d'articulation si le nombre de composantes connexes augmente  quand on le retire.\n",
    "\n",
    "Un graphe connexe sans point d'articulation est un graphe bi-connexe.\n",
    "\n",
    "ex : ![Edge](edges.png)\n",
    "\n",
    "(P.A = points d'articulation)\n",
    "\n",
    "Comment trouver les PA d'un graphe connexe ?\n",
    "idee 1 :\n",
    "* pour chaque sommet v appart. V\n",
    "    verifier si G\\{v} est toujours connexe (avec un DFS)\n",
    "    sinon G est un P.A\n",
    "O(|V|*|E|)"
   ]
  },
  {
   "cell_type": "markdown",
   "metadata": {},
   "source": [
    "Un noeud v interne de l'arbre construit par le DFS est un PA si il possede un fils dont le sous arbre n'atteint\n",
    "aucun  back edge  qui remonte au dessus (au sens de l'arbre parcours) de v."
   ]
  },
  {
   "cell_type": "code",
   "execution_count": 8,
   "metadata": {},
   "outputs": [
    {
     "ename": "SyntaxError",
     "evalue": "invalid syntax (<ipython-input-8-374b2b7e0ef3>, line 16)",
     "output_type": "error",
     "traceback": [
      "\u001b[0;36m  File \u001b[0;32m\"<ipython-input-8-374b2b7e0ef3>\"\u001b[0;36m, line \u001b[0;32m16\u001b[0m\n\u001b[0;31m    for w in # liste adjacence de v0\u001b[0m\n\u001b[0m                                    ^\u001b[0m\n\u001b[0;31mSyntaxError\u001b[0m\u001b[0;31m:\u001b[0m invalid syntax\n"
     ]
    }
   ],
   "source": [
    "def PA(G):\n",
    "    rank = [None] * len(G.V)\n",
    "    low = [None] * len(G.V)\n",
    "    pred = [None] * len(G.V)\n",
    "    index = 1\n",
    "    v0 = G.V[0]\n",
    "    pa = []\n",
    "    rec(v0)\n",
    "    return pa\n",
    "\n",
    "def rec(v):\n",
    "    children = 0\n",
    "    low[v] = index\n",
    "    rank[v] = low[v]\n",
    "    index += 1\n",
    "    for w in # liste adjacence de v0\n",
    "        if not rank[v0]:\n",
    "            children +=1\n",
    "        pred[w] = v\n",
    "        rec(w)\n",
    "        low[v] = min(low[w],low[v])\n",
    "        if pred[v] is None and children > 1:\n",
    "            pa.append(v)\n",
    "        elif pred[v] is not None and low[w] >= rank[v]:\n",
    "            pa.append(v)\n",
    "        "
   ]
  },
  {
   "cell_type": "markdown",
   "metadata": {},
   "source": [
    "# Graphes orientes \n",
    "* v1 appart. V && v2 appart. V sont fortement connectes si il existe un chemin oriente les reliant.\n",
    "* ils sont faiblement connectes si on peut les relier en ignorant l'orientation\n",
    "* fortement/faiblement connecte = relation d'equivalence\n",
    "* les classes d'equivalence associees sont les composantes faiblement et fortement connexes"
   ]
  },
  {
   "cell_type": "code",
   "execution_count": 9,
   "metadata": {},
   "outputs": [
    {
     "ename": "SyntaxError",
     "evalue": "invalid syntax (<ipython-input-9-131498929480>, line 20)",
     "output_type": "error",
     "traceback": [
      "\u001b[0;36m  File \u001b[0;32m\"<ipython-input-9-131498929480>\"\u001b[0;36m, line \u001b[0;32m20\u001b[0m\n\u001b[0;31m    for w in # liste adjacence\u001b[0m\n\u001b[0m                               ^\u001b[0m\n\u001b[0;31mSyntaxError\u001b[0m\u001b[0;31m:\u001b[0m invalid syntax\n"
     ]
    }
   ],
   "source": [
    "def Tarjan (G):\n",
    "    # retourne une partition de V en strongly connected componenent\n",
    "    S = None\n",
    "    index = 0\n",
    "    rank = [None] * len(G.V)\n",
    "    low = [None] * len(G.V)\n",
    "    onstack = [False] * len(G.V)\n",
    "    P = None # partittion\n",
    "    for v in G.V:\n",
    "        if rank[v] is None:\n",
    "            rec(v)\n",
    "    return P\n",
    "\n",
    "def rec(v):\n",
    "    low[v] = index\n",
    "    rank  = index\n",
    "    index += 1\n",
    "    S.push(v)\n",
    "    onstack[v] = True\n",
    "    for w in # liste adjacence \n",
    "        if rank[w] is None:\n",
    "            rec(w)\n",
    "            low[v] = min(low[v],low[w])\n",
    "        elif onstack[w]:\n",
    "            low[v] = min(low[v],low[w])\n",
    "            \n",
    "        "
   ]
  },
  {
   "cell_type": "markdown",
   "metadata": {},
   "source": [
    "# 2-SAT\n",
    "In : formule booleenne conjonctive avec des clauses de taille 2.\n",
    "Out : est ce que la formule satisfiable?\n",
    "    \n"
   ]
  },
  {
   "cell_type": "markdown",
   "metadata": {},
   "source": [
    "REVISION partiel : www.lrde.epita.fr/~adl/ens/theg/theg-2018.txt .\n",
    "\n",
    "---\n",
    "Programme des séances de THEG en 2018 = programme de révisions.\n",
    "\n",
    "Séance 1:\n",
    "- Chemins Eulériens.  Définition.  Condition nécessaire et suffisante.\n",
    "  Algorithme pour en produire un.\n",
    "- Définition d'arbre couvrant.\n",
    "- Théorème de Kirchhoff pour dénombrer les arbres couvrants.\n",
    "- Formule de Cayley (il y a n^{n-2} arbres avec sommets numérotés de 1 à n)\n",
    "\n",
    "Séance 2:\n",
    "- Liste d'adjacence\n",
    "- Matrice d'adjacence\n",
    "- Parcours en profondeur (récursif ou non)\n",
    "- Parcours en largeur\n",
    "- Plus courts chemins 1 source sur graphe non pondéré (DistMap)\n",
    "- Plus courts chemins 1 source sur graphe pondéré >=0 (Dijsktra)\n",
    "- Plus courts chemins 1 source sur graphe pondéré sans cycles négatif (Bellman-Ford)\n",
    "- Calculs de compexité en fonction de |E| et |V|\n",
    "\n",
    "Séance 3:\n",
    "- Plus courts chemins n source sur graphe pondérés sans cycles négatif\n",
    "  (3 algos dont Floyd-Warshal)\n",
    "\n",
    "Séance 4:\n",
    "- Couplage, couplage maximal, couplage maximum, couplage parfait, chemin améliorant.\n",
    "- Algo d'Edmonds pour le calcul d'un couplage maximum\n",
    "\n",
    "Séance 5:\n",
    "- Théorème de Tutte pour l'existence d'un couplage maximum\n",
    "- Couplage pondéré maximum, chemin améliorant pondéré\n",
    "- Application au problème du postier chinois\n",
    "\n",
    "Séance 6:\n",
    "- connexité, bi-connexité, point d'articulation\n",
    "- algorithme de recherche des points d'articulation (Hopcroft-Tarjan)\n",
    "- connexité forte, connexité faible\n",
    "- algorithme de décomposition en composantes fortement connexes (Tarjan)\n",
    "\n",
    "\n",
    "Les sujets qui suivent, présents dans les annales, n'ont pas été\n",
    "abordés cette année en cours.  Si j'ai besoin d'en parler dans l'exam\n",
    "cette année, je les définirai.\n",
    "- excentricité, rayon, diamètre,\n",
    "- graphes planaires, faces, graphe dual, théorème de Kuratowski\n",
    "- graphes cordaux, graphes d'intervales\n",
    "- flots\n",
    "- jeux\n",
    "---"
   ]
  },
  {
   "cell_type": "code",
   "execution_count": null,
   "metadata": {},
   "outputs": [],
   "source": []
  }
 ],
 "metadata": {
  "kernelspec": {
   "display_name": "Python 3",
   "language": "python",
   "name": "python3"
  },
  "language_info": {
   "codemirror_mode": {
    "name": "ipython",
    "version": 3
   },
   "file_extension": ".py",
   "mimetype": "text/x-python",
   "name": "python",
   "nbconvert_exporter": "python",
   "pygments_lexer": "ipython3",
   "version": "3.6.4"
  }
 },
 "nbformat": 4,
 "nbformat_minor": 2
}
